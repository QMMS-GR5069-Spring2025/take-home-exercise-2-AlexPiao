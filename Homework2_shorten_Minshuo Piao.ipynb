{
 "cells": [
  {
   "cell_type": "code",
   "execution_count": 0,
   "metadata": {
    "application/vnd.databricks.v1+cell": {
     "cellMetadata": {
      "byteLimit": 2048000,
      "rowLimit": 10000
     },
     "inputWidgets": {},
     "nuid": "e1358115-7578-4a3a-b0f5-93a05bf5456c",
     "showTitle": false,
     "tableResultSettingsMap": {},
     "title": ""
    }
   },
   "outputs": [],
   "source": [
    "from pyspark.sql import SparkSession\n",
    "import pyspark.sql.functions as F\n",
    "from pyspark.sql.window import Window\n",
    "from pyspark.sql.types import StringType\n",
    "from pyspark.sql.functions import when, col, upper, substring, datediff, to_date, max, min, row_number, count, sum\n",
    "\n",
    "pit_stops_path = \"s3://columbia-gr5069-main/raw/pit_stops.csv\"\n",
    "drivers_path = \"s3://columbia-gr5069-main/raw/drivers.csv\"\n",
    "results_path = \"s3://columbia-gr5069-main/raw/results.csv\"\n",
    "races_path = \"s3://columbia-gr5069-main/raw/races.csv\"\n",
    "status_path = \"s3://columbia-gr5069-main/raw/status.csv\"\n",
    "constructors_path = \"s3://columbia-gr5069-main/raw/constructors.csv\"\n",
    "\n",
    "pit_stops_df = spark.read.csv(pit_stops_path, header=True, inferSchema=True)\n",
    "drivers_df = spark.read.csv(drivers_path, header=True, inferSchema=True)\n",
    "results_df = spark.read.csv(results_path, header=True, inferSchema=True)\n",
    "races_df = spark.read.csv(races_path, header=True, inferSchema=True)\n",
    "status_df = spark.read.csv(status_path, header=True, inferSchema=True)\n",
    "constructors_df = spark.read.csv(constructors_path, header=True, inferSchema=True)"
   ]
  },
  {
   "cell_type": "code",
   "execution_count": 0,
   "metadata": {
    "application/vnd.databricks.v1+cell": {
     "cellMetadata": {
      "byteLimit": 2048000,
      "rowLimit": 10000
     },
     "inputWidgets": {},
     "nuid": "8bdc7a2b-454b-47c8-9a69-ced79be46aa9",
     "showTitle": false,
     "tableResultSettingsMap": {},
     "title": ""
    }
   },
   "outputs": [
    {
     "output_type": "display_data",
     "data": {
      "text/html": [
       "<style scoped>\n",
       "  .table-result-container {\n",
       "    max-height: 300px;\n",
       "    overflow: auto;\n",
       "  }\n",
       "  table, th, td {\n",
       "    border: 1px solid black;\n",
       "    border-collapse: collapse;\n",
       "  }\n",
       "  th, td {\n",
       "    padding: 5px;\n",
       "  }\n",
       "  th {\n",
       "    text-align: left;\n",
       "  }\n",
       "</style><div class='table-result-container'><table class='table-result'><thead style='background-color: white'><tr><th>raceId</th><th>driverId</th><th>stop</th><th>lap</th><th>time</th><th>duration</th><th>milliseconds</th></tr></thead><tbody><tr><td>841</td><td>153</td><td>1</td><td>1</td><td>2025-03-23T17:05:23Z</td><td>26.898</td><td>26898</td></tr><tr><td>841</td><td>30</td><td>1</td><td>1</td><td>2025-03-23T17:05:52Z</td><td>25.021</td><td>25021</td></tr><tr><td>841</td><td>17</td><td>1</td><td>11</td><td>2025-03-23T17:20:48Z</td><td>23.426</td><td>23426</td></tr><tr><td>841</td><td>4</td><td>1</td><td>12</td><td>2025-03-23T17:22:34Z</td><td>23.251</td><td>23251</td></tr><tr><td>841</td><td>13</td><td>1</td><td>13</td><td>2025-03-23T17:24:10Z</td><td>23.842</td><td>23842</td></tr><tr><td>841</td><td>22</td><td>1</td><td>13</td><td>2025-03-23T17:24:29Z</td><td>23.643</td><td>23643</td></tr><tr><td>841</td><td>20</td><td>1</td><td>14</td><td>2025-03-23T17:25:17Z</td><td>22.603</td><td>22603</td></tr><tr><td>841</td><td>814</td><td>1</td><td>14</td><td>2025-03-23T17:26:03Z</td><td>24.863</td><td>24863</td></tr><tr><td>841</td><td>816</td><td>1</td><td>14</td><td>2025-03-23T17:26:50Z</td><td>25.259</td><td>25259</td></tr><tr><td>841</td><td>67</td><td>1</td><td>15</td><td>2025-03-23T17:27:34Z</td><td>25.342</td><td>25342</td></tr></tbody></table></div>"
      ]
     },
     "metadata": {
      "application/vnd.databricks.v1+output": {
       "addedWidgets": {},
       "aggData": [],
       "aggError": "",
       "aggOverflow": false,
       "aggSchema": [],
       "aggSeriesLimitReached": false,
       "aggType": "",
       "arguments": {},
       "columnCustomDisplayInfos": {},
       "data": [
        [
         841,
         153,
         1,
         1,
         "2025-03-23T17:05:23Z",
         "26.898",
         26898
        ],
        [
         841,
         30,
         1,
         1,
         "2025-03-23T17:05:52Z",
         "25.021",
         25021
        ],
        [
         841,
         17,
         1,
         11,
         "2025-03-23T17:20:48Z",
         "23.426",
         23426
        ],
        [
         841,
         4,
         1,
         12,
         "2025-03-23T17:22:34Z",
         "23.251",
         23251
        ],
        [
         841,
         13,
         1,
         13,
         "2025-03-23T17:24:10Z",
         "23.842",
         23842
        ],
        [
         841,
         22,
         1,
         13,
         "2025-03-23T17:24:29Z",
         "23.643",
         23643
        ],
        [
         841,
         20,
         1,
         14,
         "2025-03-23T17:25:17Z",
         "22.603",
         22603
        ],
        [
         841,
         814,
         1,
         14,
         "2025-03-23T17:26:03Z",
         "24.863",
         24863
        ],
        [
         841,
         816,
         1,
         14,
         "2025-03-23T17:26:50Z",
         "25.259",
         25259
        ],
        [
         841,
         67,
         1,
         15,
         "2025-03-23T17:27:34Z",
         "25.342",
         25342
        ]
       ],
       "datasetInfos": [],
       "dbfsResultPath": null,
       "isJsonSchema": true,
       "metadata": {},
       "overflow": false,
       "plotOptions": {
        "customPlotOptions": {},
        "displayType": "table",
        "pivotAggregation": null,
        "pivotColumns": null,
        "xColumns": null,
        "yColumns": null
       },
       "removedWidgets": [],
       "schema": [
        {
         "metadata": "{}",
         "name": "raceId",
         "type": "\"integer\""
        },
        {
         "metadata": "{}",
         "name": "driverId",
         "type": "\"integer\""
        },
        {
         "metadata": "{}",
         "name": "stop",
         "type": "\"integer\""
        },
        {
         "metadata": "{}",
         "name": "lap",
         "type": "\"integer\""
        },
        {
         "metadata": "{}",
         "name": "time",
         "type": "\"timestamp\""
        },
        {
         "metadata": "{}",
         "name": "duration",
         "type": "\"string\""
        },
        {
         "metadata": "{}",
         "name": "milliseconds",
         "type": "\"integer\""
        }
       ],
       "type": "table"
      }
     },
     "output_type": "display_data"
    },
    {
     "output_type": "display_data",
     "data": {
      "text/html": [
       "<style scoped>\n",
       "  .table-result-container {\n",
       "    max-height: 300px;\n",
       "    overflow: auto;\n",
       "  }\n",
       "  table, th, td {\n",
       "    border: 1px solid black;\n",
       "    border-collapse: collapse;\n",
       "  }\n",
       "  th, td {\n",
       "    padding: 5px;\n",
       "  }\n",
       "  th {\n",
       "    text-align: left;\n",
       "  }\n",
       "</style><div class='table-result-container'><table class='table-result'><thead style='background-color: white'><tr><th>driverId</th><th>driverRef</th><th>number</th><th>code</th><th>forename</th><th>surname</th><th>dob</th><th>nationality</th><th>url</th></tr></thead><tbody><tr><td>1</td><td>hamilton</td><td>44</td><td>HAM</td><td>Lewis</td><td>Hamilton</td><td>1985-01-07</td><td>British</td><td>http://en.wikipedia.org/wiki/Lewis_Hamilton</td></tr><tr><td>2</td><td>heidfeld</td><td>\\N</td><td>HEI</td><td>Nick</td><td>Heidfeld</td><td>1977-05-10</td><td>German</td><td>http://en.wikipedia.org/wiki/Nick_Heidfeld</td></tr><tr><td>3</td><td>rosberg</td><td>6</td><td>ROS</td><td>Nico</td><td>Rosberg</td><td>1985-06-27</td><td>German</td><td>http://en.wikipedia.org/wiki/Nico_Rosberg</td></tr><tr><td>4</td><td>alonso</td><td>14</td><td>ALO</td><td>Fernando</td><td>Alonso</td><td>1981-07-29</td><td>Spanish</td><td>http://en.wikipedia.org/wiki/Fernando_Alonso</td></tr><tr><td>5</td><td>kovalainen</td><td>\\N</td><td>KOV</td><td>Heikki</td><td>Kovalainen</td><td>1981-10-19</td><td>Finnish</td><td>http://en.wikipedia.org/wiki/Heikki_Kovalainen</td></tr><tr><td>6</td><td>nakajima</td><td>\\N</td><td>NAK</td><td>Kazuki</td><td>Nakajima</td><td>1985-01-11</td><td>Japanese</td><td>http://en.wikipedia.org/wiki/Kazuki_Nakajima</td></tr><tr><td>7</td><td>bourdais</td><td>\\N</td><td>BOU</td><td>Sébastien</td><td>Bourdais</td><td>1979-02-28</td><td>French</td><td>http://en.wikipedia.org/wiki/S%C3%A9bastien_Bourdais</td></tr><tr><td>8</td><td>raikkonen</td><td>7</td><td>RAI</td><td>Kimi</td><td>Räikkönen</td><td>1979-10-17</td><td>Finnish</td><td>http://en.wikipedia.org/wiki/Kimi_R%C3%A4ikk%C3%B6nen</td></tr><tr><td>9</td><td>kubica</td><td>88</td><td>KUB</td><td>Robert</td><td>Kubica</td><td>1984-12-07</td><td>Polish</td><td>http://en.wikipedia.org/wiki/Robert_Kubica</td></tr><tr><td>10</td><td>glock</td><td>\\N</td><td>GLO</td><td>Timo</td><td>Glock</td><td>1982-03-18</td><td>German</td><td>http://en.wikipedia.org/wiki/Timo_Glock</td></tr></tbody></table></div>"
      ]
     },
     "metadata": {
      "application/vnd.databricks.v1+output": {
       "addedWidgets": {},
       "aggData": [],
       "aggError": "",
       "aggOverflow": false,
       "aggSchema": [],
       "aggSeriesLimitReached": false,
       "aggType": "",
       "arguments": {},
       "columnCustomDisplayInfos": {},
       "data": [
        [
         1,
         "hamilton",
         "44",
         "HAM",
         "Lewis",
         "Hamilton",
         "1985-01-07",
         "British",
         "http://en.wikipedia.org/wiki/Lewis_Hamilton"
        ],
        [
         2,
         "heidfeld",
         "\\N",
         "HEI",
         "Nick",
         "Heidfeld",
         "1977-05-10",
         "German",
         "http://en.wikipedia.org/wiki/Nick_Heidfeld"
        ],
        [
         3,
         "rosberg",
         "6",
         "ROS",
         "Nico",
         "Rosberg",
         "1985-06-27",
         "German",
         "http://en.wikipedia.org/wiki/Nico_Rosberg"
        ],
        [
         4,
         "alonso",
         "14",
         "ALO",
         "Fernando",
         "Alonso",
         "1981-07-29",
         "Spanish",
         "http://en.wikipedia.org/wiki/Fernando_Alonso"
        ],
        [
         5,
         "kovalainen",
         "\\N",
         "KOV",
         "Heikki",
         "Kovalainen",
         "1981-10-19",
         "Finnish",
         "http://en.wikipedia.org/wiki/Heikki_Kovalainen"
        ],
        [
         6,
         "nakajima",
         "\\N",
         "NAK",
         "Kazuki",
         "Nakajima",
         "1985-01-11",
         "Japanese",
         "http://en.wikipedia.org/wiki/Kazuki_Nakajima"
        ],
        [
         7,
         "bourdais",
         "\\N",
         "BOU",
         "Sébastien",
         "Bourdais",
         "1979-02-28",
         "French",
         "http://en.wikipedia.org/wiki/S%C3%A9bastien_Bourdais"
        ],
        [
         8,
         "raikkonen",
         "7",
         "RAI",
         "Kimi",
         "Räikkönen",
         "1979-10-17",
         "Finnish",
         "http://en.wikipedia.org/wiki/Kimi_R%C3%A4ikk%C3%B6nen"
        ],
        [
         9,
         "kubica",
         "88",
         "KUB",
         "Robert",
         "Kubica",
         "1984-12-07",
         "Polish",
         "http://en.wikipedia.org/wiki/Robert_Kubica"
        ],
        [
         10,
         "glock",
         "\\N",
         "GLO",
         "Timo",
         "Glock",
         "1982-03-18",
         "German",
         "http://en.wikipedia.org/wiki/Timo_Glock"
        ]
       ],
       "datasetInfos": [],
       "dbfsResultPath": null,
       "isJsonSchema": true,
       "metadata": {},
       "overflow": false,
       "plotOptions": {
        "customPlotOptions": {},
        "displayType": "table",
        "pivotAggregation": null,
        "pivotColumns": null,
        "xColumns": null,
        "yColumns": null
       },
       "removedWidgets": [],
       "schema": [
        {
         "metadata": "{}",
         "name": "driverId",
         "type": "\"integer\""
        },
        {
         "metadata": "{}",
         "name": "driverRef",
         "type": "\"string\""
        },
        {
         "metadata": "{}",
         "name": "number",
         "type": "\"string\""
        },
        {
         "metadata": "{}",
         "name": "code",
         "type": "\"string\""
        },
        {
         "metadata": "{}",
         "name": "forename",
         "type": "\"string\""
        },
        {
         "metadata": "{}",
         "name": "surname",
         "type": "\"string\""
        },
        {
         "metadata": "{\"__detected_date_formats\":\"yyyy-M-d\"}",
         "name": "dob",
         "type": "\"date\""
        },
        {
         "metadata": "{}",
         "name": "nationality",
         "type": "\"string\""
        },
        {
         "metadata": "{}",
         "name": "url",
         "type": "\"string\""
        }
       ],
       "type": "table"
      }
     },
     "output_type": "display_data"
    },
    {
     "output_type": "display_data",
     "data": {
      "text/html": [
       "<style scoped>\n",
       "  .table-result-container {\n",
       "    max-height: 300px;\n",
       "    overflow: auto;\n",
       "  }\n",
       "  table, th, td {\n",
       "    border: 1px solid black;\n",
       "    border-collapse: collapse;\n",
       "  }\n",
       "  th, td {\n",
       "    padding: 5px;\n",
       "  }\n",
       "  th {\n",
       "    text-align: left;\n",
       "  }\n",
       "</style><div class='table-result-container'><table class='table-result'><thead style='background-color: white'><tr><th>resultId</th><th>raceId</th><th>driverId</th><th>constructorId</th><th>number</th><th>grid</th><th>position</th><th>positionText</th><th>positionOrder</th><th>points</th><th>laps</th><th>time</th><th>milliseconds</th><th>fastestLap</th><th>rank</th><th>fastestLapTime</th><th>fastestLapSpeed</th><th>statusId</th></tr></thead><tbody><tr><td>1</td><td>18</td><td>1</td><td>1</td><td>22</td><td>1</td><td>1</td><td>1</td><td>1</td><td>10.0</td><td>58</td><td>1:34:50.616</td><td>5690616</td><td>39</td><td>2</td><td>1:27.452</td><td>218.300</td><td>1</td></tr><tr><td>2</td><td>18</td><td>2</td><td>2</td><td>3</td><td>5</td><td>2</td><td>2</td><td>2</td><td>8.0</td><td>58</td><td>+5.478</td><td>5696094</td><td>41</td><td>3</td><td>1:27.739</td><td>217.586</td><td>1</td></tr><tr><td>3</td><td>18</td><td>3</td><td>3</td><td>7</td><td>7</td><td>3</td><td>3</td><td>3</td><td>6.0</td><td>58</td><td>+8.163</td><td>5698779</td><td>41</td><td>5</td><td>1:28.090</td><td>216.719</td><td>1</td></tr><tr><td>4</td><td>18</td><td>4</td><td>4</td><td>5</td><td>11</td><td>4</td><td>4</td><td>4</td><td>5.0</td><td>58</td><td>+17.181</td><td>5707797</td><td>58</td><td>7</td><td>1:28.603</td><td>215.464</td><td>1</td></tr><tr><td>5</td><td>18</td><td>5</td><td>1</td><td>23</td><td>3</td><td>5</td><td>5</td><td>5</td><td>4.0</td><td>58</td><td>+18.014</td><td>5708630</td><td>43</td><td>1</td><td>1:27.418</td><td>218.385</td><td>1</td></tr><tr><td>6</td><td>18</td><td>6</td><td>3</td><td>8</td><td>13</td><td>6</td><td>6</td><td>6</td><td>3.0</td><td>57</td><td>\\N</td><td>\\N</td><td>50</td><td>14</td><td>1:29.639</td><td>212.974</td><td>11</td></tr><tr><td>7</td><td>18</td><td>7</td><td>5</td><td>14</td><td>17</td><td>7</td><td>7</td><td>7</td><td>2.0</td><td>55</td><td>\\N</td><td>\\N</td><td>22</td><td>12</td><td>1:29.534</td><td>213.224</td><td>5</td></tr><tr><td>8</td><td>18</td><td>8</td><td>6</td><td>1</td><td>15</td><td>8</td><td>8</td><td>8</td><td>1.0</td><td>53</td><td>\\N</td><td>\\N</td><td>20</td><td>4</td><td>1:27.903</td><td>217.180</td><td>5</td></tr><tr><td>9</td><td>18</td><td>9</td><td>2</td><td>4</td><td>2</td><td>\\N</td><td>R</td><td>9</td><td>0.0</td><td>47</td><td>\\N</td><td>\\N</td><td>15</td><td>9</td><td>1:28.753</td><td>215.100</td><td>4</td></tr><tr><td>10</td><td>18</td><td>10</td><td>7</td><td>12</td><td>18</td><td>\\N</td><td>R</td><td>10</td><td>0.0</td><td>43</td><td>\\N</td><td>\\N</td><td>23</td><td>13</td><td>1:29.558</td><td>213.166</td><td>3</td></tr></tbody></table></div>"
      ]
     },
     "metadata": {
      "application/vnd.databricks.v1+output": {
       "addedWidgets": {},
       "aggData": [],
       "aggError": "",
       "aggOverflow": false,
       "aggSchema": [],
       "aggSeriesLimitReached": false,
       "aggType": "",
       "arguments": {},
       "columnCustomDisplayInfos": {},
       "data": [
        [
         1,
         18,
         1,
         1,
         "22",
         1,
         "1",
         "1",
         1,
         10.0,
         58,
         "1:34:50.616",
         "5690616",
         "39",
         "2",
         "1:27.452",
         "218.300",
         1
        ],
        [
         2,
         18,
         2,
         2,
         "3",
         5,
         "2",
         "2",
         2,
         8.0,
         58,
         "+5.478",
         "5696094",
         "41",
         "3",
         "1:27.739",
         "217.586",
         1
        ],
        [
         3,
         18,
         3,
         3,
         "7",
         7,
         "3",
         "3",
         3,
         6.0,
         58,
         "+8.163",
         "5698779",
         "41",
         "5",
         "1:28.090",
         "216.719",
         1
        ],
        [
         4,
         18,
         4,
         4,
         "5",
         11,
         "4",
         "4",
         4,
         5.0,
         58,
         "+17.181",
         "5707797",
         "58",
         "7",
         "1:28.603",
         "215.464",
         1
        ],
        [
         5,
         18,
         5,
         1,
         "23",
         3,
         "5",
         "5",
         5,
         4.0,
         58,
         "+18.014",
         "5708630",
         "43",
         "1",
         "1:27.418",
         "218.385",
         1
        ],
        [
         6,
         18,
         6,
         3,
         "8",
         13,
         "6",
         "6",
         6,
         3.0,
         57,
         "\\N",
         "\\N",
         "50",
         "14",
         "1:29.639",
         "212.974",
         11
        ],
        [
         7,
         18,
         7,
         5,
         "14",
         17,
         "7",
         "7",
         7,
         2.0,
         55,
         "\\N",
         "\\N",
         "22",
         "12",
         "1:29.534",
         "213.224",
         5
        ],
        [
         8,
         18,
         8,
         6,
         "1",
         15,
         "8",
         "8",
         8,
         1.0,
         53,
         "\\N",
         "\\N",
         "20",
         "4",
         "1:27.903",
         "217.180",
         5
        ],
        [
         9,
         18,
         9,
         2,
         "4",
         2,
         "\\N",
         "R",
         9,
         0.0,
         47,
         "\\N",
         "\\N",
         "15",
         "9",
         "1:28.753",
         "215.100",
         4
        ],
        [
         10,
         18,
         10,
         7,
         "12",
         18,
         "\\N",
         "R",
         10,
         0.0,
         43,
         "\\N",
         "\\N",
         "23",
         "13",
         "1:29.558",
         "213.166",
         3
        ]
       ],
       "datasetInfos": [],
       "dbfsResultPath": null,
       "isJsonSchema": true,
       "metadata": {},
       "overflow": false,
       "plotOptions": {
        "customPlotOptions": {},
        "displayType": "table",
        "pivotAggregation": null,
        "pivotColumns": null,
        "xColumns": null,
        "yColumns": null
       },
       "removedWidgets": [],
       "schema": [
        {
         "metadata": "{}",
         "name": "resultId",
         "type": "\"integer\""
        },
        {
         "metadata": "{}",
         "name": "raceId",
         "type": "\"integer\""
        },
        {
         "metadata": "{}",
         "name": "driverId",
         "type": "\"integer\""
        },
        {
         "metadata": "{}",
         "name": "constructorId",
         "type": "\"integer\""
        },
        {
         "metadata": "{}",
         "name": "number",
         "type": "\"string\""
        },
        {
         "metadata": "{}",
         "name": "grid",
         "type": "\"integer\""
        },
        {
         "metadata": "{}",
         "name": "position",
         "type": "\"string\""
        },
        {
         "metadata": "{}",
         "name": "positionText",
         "type": "\"string\""
        },
        {
         "metadata": "{}",
         "name": "positionOrder",
         "type": "\"integer\""
        },
        {
         "metadata": "{}",
         "name": "points",
         "type": "\"double\""
        },
        {
         "metadata": "{}",
         "name": "laps",
         "type": "\"integer\""
        },
        {
         "metadata": "{}",
         "name": "time",
         "type": "\"string\""
        },
        {
         "metadata": "{}",
         "name": "milliseconds",
         "type": "\"string\""
        },
        {
         "metadata": "{}",
         "name": "fastestLap",
         "type": "\"string\""
        },
        {
         "metadata": "{}",
         "name": "rank",
         "type": "\"string\""
        },
        {
         "metadata": "{}",
         "name": "fastestLapTime",
         "type": "\"string\""
        },
        {
         "metadata": "{}",
         "name": "fastestLapSpeed",
         "type": "\"string\""
        },
        {
         "metadata": "{}",
         "name": "statusId",
         "type": "\"integer\""
        }
       ],
       "type": "table"
      }
     },
     "output_type": "display_data"
    },
    {
     "output_type": "display_data",
     "data": {
      "text/html": [
       "<style scoped>\n",
       "  .table-result-container {\n",
       "    max-height: 300px;\n",
       "    overflow: auto;\n",
       "  }\n",
       "  table, th, td {\n",
       "    border: 1px solid black;\n",
       "    border-collapse: collapse;\n",
       "  }\n",
       "  th, td {\n",
       "    padding: 5px;\n",
       "  }\n",
       "  th {\n",
       "    text-align: left;\n",
       "  }\n",
       "</style><div class='table-result-container'><table class='table-result'><thead style='background-color: white'><tr><th>raceId</th><th>year</th><th>round</th><th>circuitId</th><th>name</th><th>date</th><th>time</th><th>url</th><th>fp1_date</th><th>fp1_time</th><th>fp2_date</th><th>fp2_time</th><th>fp3_date</th><th>fp3_time</th><th>quali_date</th><th>quali_time</th><th>sprint_date</th><th>sprint_time</th></tr></thead><tbody><tr><td>1</td><td>2009</td><td>1</td><td>1</td><td>Australian Grand Prix</td><td>2009-03-29</td><td>06:00:00</td><td>http://en.wikipedia.org/wiki/2009_Australian_Grand_Prix</td><td>\\N</td><td>\\N</td><td>\\N</td><td>\\N</td><td>\\N</td><td>\\N</td><td>\\N</td><td>\\N</td><td>\\N</td><td>\\N</td></tr><tr><td>2</td><td>2009</td><td>2</td><td>2</td><td>Malaysian Grand Prix</td><td>2009-04-05</td><td>09:00:00</td><td>http://en.wikipedia.org/wiki/2009_Malaysian_Grand_Prix</td><td>\\N</td><td>\\N</td><td>\\N</td><td>\\N</td><td>\\N</td><td>\\N</td><td>\\N</td><td>\\N</td><td>\\N</td><td>\\N</td></tr><tr><td>3</td><td>2009</td><td>3</td><td>17</td><td>Chinese Grand Prix</td><td>2009-04-19</td><td>07:00:00</td><td>http://en.wikipedia.org/wiki/2009_Chinese_Grand_Prix</td><td>\\N</td><td>\\N</td><td>\\N</td><td>\\N</td><td>\\N</td><td>\\N</td><td>\\N</td><td>\\N</td><td>\\N</td><td>\\N</td></tr><tr><td>4</td><td>2009</td><td>4</td><td>3</td><td>Bahrain Grand Prix</td><td>2009-04-26</td><td>12:00:00</td><td>http://en.wikipedia.org/wiki/2009_Bahrain_Grand_Prix</td><td>\\N</td><td>\\N</td><td>\\N</td><td>\\N</td><td>\\N</td><td>\\N</td><td>\\N</td><td>\\N</td><td>\\N</td><td>\\N</td></tr><tr><td>5</td><td>2009</td><td>5</td><td>4</td><td>Spanish Grand Prix</td><td>2009-05-10</td><td>12:00:00</td><td>http://en.wikipedia.org/wiki/2009_Spanish_Grand_Prix</td><td>\\N</td><td>\\N</td><td>\\N</td><td>\\N</td><td>\\N</td><td>\\N</td><td>\\N</td><td>\\N</td><td>\\N</td><td>\\N</td></tr><tr><td>6</td><td>2009</td><td>6</td><td>6</td><td>Monaco Grand Prix</td><td>2009-05-24</td><td>12:00:00</td><td>http://en.wikipedia.org/wiki/2009_Monaco_Grand_Prix</td><td>\\N</td><td>\\N</td><td>\\N</td><td>\\N</td><td>\\N</td><td>\\N</td><td>\\N</td><td>\\N</td><td>\\N</td><td>\\N</td></tr><tr><td>7</td><td>2009</td><td>7</td><td>5</td><td>Turkish Grand Prix</td><td>2009-06-07</td><td>12:00:00</td><td>http://en.wikipedia.org/wiki/2009_Turkish_Grand_Prix</td><td>\\N</td><td>\\N</td><td>\\N</td><td>\\N</td><td>\\N</td><td>\\N</td><td>\\N</td><td>\\N</td><td>\\N</td><td>\\N</td></tr><tr><td>8</td><td>2009</td><td>8</td><td>9</td><td>British Grand Prix</td><td>2009-06-21</td><td>12:00:00</td><td>http://en.wikipedia.org/wiki/2009_British_Grand_Prix</td><td>\\N</td><td>\\N</td><td>\\N</td><td>\\N</td><td>\\N</td><td>\\N</td><td>\\N</td><td>\\N</td><td>\\N</td><td>\\N</td></tr><tr><td>9</td><td>2009</td><td>9</td><td>20</td><td>German Grand Prix</td><td>2009-07-12</td><td>12:00:00</td><td>http://en.wikipedia.org/wiki/2009_German_Grand_Prix</td><td>\\N</td><td>\\N</td><td>\\N</td><td>\\N</td><td>\\N</td><td>\\N</td><td>\\N</td><td>\\N</td><td>\\N</td><td>\\N</td></tr><tr><td>10</td><td>2009</td><td>10</td><td>11</td><td>Hungarian Grand Prix</td><td>2009-07-26</td><td>12:00:00</td><td>http://en.wikipedia.org/wiki/2009_Hungarian_Grand_Prix</td><td>\\N</td><td>\\N</td><td>\\N</td><td>\\N</td><td>\\N</td><td>\\N</td><td>\\N</td><td>\\N</td><td>\\N</td><td>\\N</td></tr></tbody></table></div>"
      ]
     },
     "metadata": {
      "application/vnd.databricks.v1+output": {
       "addedWidgets": {},
       "aggData": [],
       "aggError": "",
       "aggOverflow": false,
       "aggSchema": [],
       "aggSeriesLimitReached": false,
       "aggType": "",
       "arguments": {},
       "columnCustomDisplayInfos": {},
       "data": [
        [
         1,
         2009,
         1,
         1,
         "Australian Grand Prix",
         "2009-03-29",
         "06:00:00",
         "http://en.wikipedia.org/wiki/2009_Australian_Grand_Prix",
         "\\N",
         "\\N",
         "\\N",
         "\\N",
         "\\N",
         "\\N",
         "\\N",
         "\\N",
         "\\N",
         "\\N"
        ],
        [
         2,
         2009,
         2,
         2,
         "Malaysian Grand Prix",
         "2009-04-05",
         "09:00:00",
         "http://en.wikipedia.org/wiki/2009_Malaysian_Grand_Prix",
         "\\N",
         "\\N",
         "\\N",
         "\\N",
         "\\N",
         "\\N",
         "\\N",
         "\\N",
         "\\N",
         "\\N"
        ],
        [
         3,
         2009,
         3,
         17,
         "Chinese Grand Prix",
         "2009-04-19",
         "07:00:00",
         "http://en.wikipedia.org/wiki/2009_Chinese_Grand_Prix",
         "\\N",
         "\\N",
         "\\N",
         "\\N",
         "\\N",
         "\\N",
         "\\N",
         "\\N",
         "\\N",
         "\\N"
        ],
        [
         4,
         2009,
         4,
         3,
         "Bahrain Grand Prix",
         "2009-04-26",
         "12:00:00",
         "http://en.wikipedia.org/wiki/2009_Bahrain_Grand_Prix",
         "\\N",
         "\\N",
         "\\N",
         "\\N",
         "\\N",
         "\\N",
         "\\N",
         "\\N",
         "\\N",
         "\\N"
        ],
        [
         5,
         2009,
         5,
         4,
         "Spanish Grand Prix",
         "2009-05-10",
         "12:00:00",
         "http://en.wikipedia.org/wiki/2009_Spanish_Grand_Prix",
         "\\N",
         "\\N",
         "\\N",
         "\\N",
         "\\N",
         "\\N",
         "\\N",
         "\\N",
         "\\N",
         "\\N"
        ],
        [
         6,
         2009,
         6,
         6,
         "Monaco Grand Prix",
         "2009-05-24",
         "12:00:00",
         "http://en.wikipedia.org/wiki/2009_Monaco_Grand_Prix",
         "\\N",
         "\\N",
         "\\N",
         "\\N",
         "\\N",
         "\\N",
         "\\N",
         "\\N",
         "\\N",
         "\\N"
        ],
        [
         7,
         2009,
         7,
         5,
         "Turkish Grand Prix",
         "2009-06-07",
         "12:00:00",
         "http://en.wikipedia.org/wiki/2009_Turkish_Grand_Prix",
         "\\N",
         "\\N",
         "\\N",
         "\\N",
         "\\N",
         "\\N",
         "\\N",
         "\\N",
         "\\N",
         "\\N"
        ],
        [
         8,
         2009,
         8,
         9,
         "British Grand Prix",
         "2009-06-21",
         "12:00:00",
         "http://en.wikipedia.org/wiki/2009_British_Grand_Prix",
         "\\N",
         "\\N",
         "\\N",
         "\\N",
         "\\N",
         "\\N",
         "\\N",
         "\\N",
         "\\N",
         "\\N"
        ],
        [
         9,
         2009,
         9,
         20,
         "German Grand Prix",
         "2009-07-12",
         "12:00:00",
         "http://en.wikipedia.org/wiki/2009_German_Grand_Prix",
         "\\N",
         "\\N",
         "\\N",
         "\\N",
         "\\N",
         "\\N",
         "\\N",
         "\\N",
         "\\N",
         "\\N"
        ],
        [
         10,
         2009,
         10,
         11,
         "Hungarian Grand Prix",
         "2009-07-26",
         "12:00:00",
         "http://en.wikipedia.org/wiki/2009_Hungarian_Grand_Prix",
         "\\N",
         "\\N",
         "\\N",
         "\\N",
         "\\N",
         "\\N",
         "\\N",
         "\\N",
         "\\N",
         "\\N"
        ]
       ],
       "datasetInfos": [],
       "dbfsResultPath": null,
       "isJsonSchema": true,
       "metadata": {},
       "overflow": false,
       "plotOptions": {
        "customPlotOptions": {},
        "displayType": "table",
        "pivotAggregation": null,
        "pivotColumns": null,
        "xColumns": null,
        "yColumns": null
       },
       "removedWidgets": [],
       "schema": [
        {
         "metadata": "{}",
         "name": "raceId",
         "type": "\"integer\""
        },
        {
         "metadata": "{}",
         "name": "year",
         "type": "\"integer\""
        },
        {
         "metadata": "{}",
         "name": "round",
         "type": "\"integer\""
        },
        {
         "metadata": "{}",
         "name": "circuitId",
         "type": "\"integer\""
        },
        {
         "metadata": "{}",
         "name": "name",
         "type": "\"string\""
        },
        {
         "metadata": "{\"__detected_date_formats\":\"yyyy-M-d\"}",
         "name": "date",
         "type": "\"date\""
        },
        {
         "metadata": "{}",
         "name": "time",
         "type": "\"string\""
        },
        {
         "metadata": "{}",
         "name": "url",
         "type": "\"string\""
        },
        {
         "metadata": "{}",
         "name": "fp1_date",
         "type": "\"string\""
        },
        {
         "metadata": "{}",
         "name": "fp1_time",
         "type": "\"string\""
        },
        {
         "metadata": "{}",
         "name": "fp2_date",
         "type": "\"string\""
        },
        {
         "metadata": "{}",
         "name": "fp2_time",
         "type": "\"string\""
        },
        {
         "metadata": "{}",
         "name": "fp3_date",
         "type": "\"string\""
        },
        {
         "metadata": "{}",
         "name": "fp3_time",
         "type": "\"string\""
        },
        {
         "metadata": "{}",
         "name": "quali_date",
         "type": "\"string\""
        },
        {
         "metadata": "{}",
         "name": "quali_time",
         "type": "\"string\""
        },
        {
         "metadata": "{}",
         "name": "sprint_date",
         "type": "\"string\""
        },
        {
         "metadata": "{}",
         "name": "sprint_time",
         "type": "\"string\""
        }
       ],
       "type": "table"
      }
     },
     "output_type": "display_data"
    },
    {
     "output_type": "display_data",
     "data": {
      "text/html": [
       "<style scoped>\n",
       "  .table-result-container {\n",
       "    max-height: 300px;\n",
       "    overflow: auto;\n",
       "  }\n",
       "  table, th, td {\n",
       "    border: 1px solid black;\n",
       "    border-collapse: collapse;\n",
       "  }\n",
       "  th, td {\n",
       "    padding: 5px;\n",
       "  }\n",
       "  th {\n",
       "    text-align: left;\n",
       "  }\n",
       "</style><div class='table-result-container'><table class='table-result'><thead style='background-color: white'><tr><th>statusId</th><th>status</th></tr></thead><tbody><tr><td>1</td><td>Finished</td></tr><tr><td>2</td><td>Disqualified</td></tr><tr><td>3</td><td>Accident</td></tr><tr><td>4</td><td>Collision</td></tr><tr><td>5</td><td>Engine</td></tr><tr><td>6</td><td>Gearbox</td></tr><tr><td>7</td><td>Transmission</td></tr><tr><td>8</td><td>Clutch</td></tr><tr><td>9</td><td>Hydraulics</td></tr><tr><td>10</td><td>Electrical</td></tr></tbody></table></div>"
      ]
     },
     "metadata": {
      "application/vnd.databricks.v1+output": {
       "addedWidgets": {},
       "aggData": [],
       "aggError": "",
       "aggOverflow": false,
       "aggSchema": [],
       "aggSeriesLimitReached": false,
       "aggType": "",
       "arguments": {},
       "columnCustomDisplayInfos": {},
       "data": [
        [
         1,
         "Finished"
        ],
        [
         2,
         "Disqualified"
        ],
        [
         3,
         "Accident"
        ],
        [
         4,
         "Collision"
        ],
        [
         5,
         "Engine"
        ],
        [
         6,
         "Gearbox"
        ],
        [
         7,
         "Transmission"
        ],
        [
         8,
         "Clutch"
        ],
        [
         9,
         "Hydraulics"
        ],
        [
         10,
         "Electrical"
        ]
       ],
       "datasetInfos": [],
       "dbfsResultPath": null,
       "isJsonSchema": true,
       "metadata": {},
       "overflow": false,
       "plotOptions": {
        "customPlotOptions": {},
        "displayType": "table",
        "pivotAggregation": null,
        "pivotColumns": null,
        "xColumns": null,
        "yColumns": null
       },
       "removedWidgets": [],
       "schema": [
        {
         "metadata": "{}",
         "name": "statusId",
         "type": "\"integer\""
        },
        {
         "metadata": "{}",
         "name": "status",
         "type": "\"string\""
        }
       ],
       "type": "table"
      }
     },
     "output_type": "display_data"
    },
    {
     "output_type": "display_data",
     "data": {
      "text/html": [
       "<style scoped>\n",
       "  .table-result-container {\n",
       "    max-height: 300px;\n",
       "    overflow: auto;\n",
       "  }\n",
       "  table, th, td {\n",
       "    border: 1px solid black;\n",
       "    border-collapse: collapse;\n",
       "  }\n",
       "  th, td {\n",
       "    padding: 5px;\n",
       "  }\n",
       "  th {\n",
       "    text-align: left;\n",
       "  }\n",
       "</style><div class='table-result-container'><table class='table-result'><thead style='background-color: white'><tr><th>constructorId</th><th>constructorRef</th><th>name</th><th>nationality</th><th>url</th></tr></thead><tbody><tr><td>1</td><td>mclaren</td><td>McLaren</td><td>British</td><td>http://en.wikipedia.org/wiki/McLaren</td></tr><tr><td>2</td><td>bmw_sauber</td><td>BMW Sauber</td><td>German</td><td>http://en.wikipedia.org/wiki/BMW_Sauber</td></tr><tr><td>3</td><td>williams</td><td>Williams</td><td>British</td><td>http://en.wikipedia.org/wiki/Williams_Grand_Prix_Engineering</td></tr><tr><td>4</td><td>renault</td><td>Renault</td><td>French</td><td>http://en.wikipedia.org/wiki/Renault_in_Formula_One</td></tr><tr><td>5</td><td>toro_rosso</td><td>Toro Rosso</td><td>Italian</td><td>http://en.wikipedia.org/wiki/Scuderia_Toro_Rosso</td></tr><tr><td>6</td><td>ferrari</td><td>Ferrari</td><td>Italian</td><td>http://en.wikipedia.org/wiki/Scuderia_Ferrari</td></tr><tr><td>7</td><td>toyota</td><td>Toyota</td><td>Japanese</td><td>http://en.wikipedia.org/wiki/Toyota_Racing</td></tr><tr><td>8</td><td>super_aguri</td><td>Super Aguri</td><td>Japanese</td><td>http://en.wikipedia.org/wiki/Super_Aguri_F1</td></tr><tr><td>9</td><td>red_bull</td><td>Red Bull</td><td>Austrian</td><td>http://en.wikipedia.org/wiki/Red_Bull_Racing</td></tr><tr><td>10</td><td>force_india</td><td>Force India</td><td>Indian</td><td>http://en.wikipedia.org/wiki/Racing_Point_Force_India</td></tr></tbody></table></div>"
      ]
     },
     "metadata": {
      "application/vnd.databricks.v1+output": {
       "addedWidgets": {},
       "aggData": [],
       "aggError": "",
       "aggOverflow": false,
       "aggSchema": [],
       "aggSeriesLimitReached": false,
       "aggType": "",
       "arguments": {},
       "columnCustomDisplayInfos": {},
       "data": [
        [
         1,
         "mclaren",
         "McLaren",
         "British",
         "http://en.wikipedia.org/wiki/McLaren"
        ],
        [
         2,
         "bmw_sauber",
         "BMW Sauber",
         "German",
         "http://en.wikipedia.org/wiki/BMW_Sauber"
        ],
        [
         3,
         "williams",
         "Williams",
         "British",
         "http://en.wikipedia.org/wiki/Williams_Grand_Prix_Engineering"
        ],
        [
         4,
         "renault",
         "Renault",
         "French",
         "http://en.wikipedia.org/wiki/Renault_in_Formula_One"
        ],
        [
         5,
         "toro_rosso",
         "Toro Rosso",
         "Italian",
         "http://en.wikipedia.org/wiki/Scuderia_Toro_Rosso"
        ],
        [
         6,
         "ferrari",
         "Ferrari",
         "Italian",
         "http://en.wikipedia.org/wiki/Scuderia_Ferrari"
        ],
        [
         7,
         "toyota",
         "Toyota",
         "Japanese",
         "http://en.wikipedia.org/wiki/Toyota_Racing"
        ],
        [
         8,
         "super_aguri",
         "Super Aguri",
         "Japanese",
         "http://en.wikipedia.org/wiki/Super_Aguri_F1"
        ],
        [
         9,
         "red_bull",
         "Red Bull",
         "Austrian",
         "http://en.wikipedia.org/wiki/Red_Bull_Racing"
        ],
        [
         10,
         "force_india",
         "Force India",
         "Indian",
         "http://en.wikipedia.org/wiki/Racing_Point_Force_India"
        ]
       ],
       "datasetInfos": [],
       "dbfsResultPath": null,
       "isJsonSchema": true,
       "metadata": {},
       "overflow": false,
       "plotOptions": {
        "customPlotOptions": {},
        "displayType": "table",
        "pivotAggregation": null,
        "pivotColumns": null,
        "xColumns": null,
        "yColumns": null
       },
       "removedWidgets": [],
       "schema": [
        {
         "metadata": "{}",
         "name": "constructorId",
         "type": "\"integer\""
        },
        {
         "metadata": "{}",
         "name": "constructorRef",
         "type": "\"string\""
        },
        {
         "metadata": "{}",
         "name": "name",
         "type": "\"string\""
        },
        {
         "metadata": "{}",
         "name": "nationality",
         "type": "\"string\""
        },
        {
         "metadata": "{}",
         "name": "url",
         "type": "\"string\""
        }
       ],
       "type": "table"
      }
     },
     "output_type": "display_data"
    }
   ],
   "source": [
    "display(pit_stops_df.limit(10))\n",
    "display(drivers_df.limit(10))\n",
    "display(results_df.limit(10))\n",
    "display(races_df.limit(10))\n",
    "display(status_df.limit(10))\n",
    "display(constructors_df.limit(10))"
   ]
  },
  {
   "cell_type": "markdown",
   "metadata": {
    "application/vnd.databricks.v1+cell": {
     "cellMetadata": {
      "byteLimit": 2048000,
      "rowLimit": 10000
     },
     "inputWidgets": {},
     "nuid": "7b226667-c10a-4786-9961-3b03429af3bd",
     "showTitle": false,
     "tableResultSettingsMap": {},
     "title": ""
    }
   },
   "source": [
    "1. What was the average time each driver spent at the pit stop for each race?"
   ]
  },
  {
   "cell_type": "code",
   "execution_count": 0,
   "metadata": {
    "application/vnd.databricks.v1+cell": {
     "cellMetadata": {
      "byteLimit": 2048000,
      "rowLimit": 10000
     },
     "inputWidgets": {},
     "nuid": "8d8fffcd-d0d2-4224-8fd2-a8e49f278827",
     "showTitle": false,
     "tableResultSettingsMap": {},
     "title": ""
    }
   },
   "outputs": [
    {
     "output_type": "display_data",
     "data": {
      "text/html": [
       "<style scoped>\n",
       "  .table-result-container {\n",
       "    max-height: 300px;\n",
       "    overflow: auto;\n",
       "  }\n",
       "  table, th, td {\n",
       "    border: 1px solid black;\n",
       "    border-collapse: collapse;\n",
       "  }\n",
       "  th, td {\n",
       "    padding: 5px;\n",
       "  }\n",
       "  th {\n",
       "    text-align: left;\n",
       "  }\n",
       "</style><div class='table-result-container'><table class='table-result'><thead style='background-color: white'><tr><th>raceId</th><th>driverId</th><th>avg_pit_time</th></tr></thead><tbody><tr><td>858</td><td>4</td><td>20762.5</td></tr><tr><td>880</td><td>154</td><td>22302.0</td></tr><tr><td>890</td><td>814</td><td>22834.67</td></tr><tr><td>904</td><td>815</td><td>22324.5</td></tr><tr><td>952</td><td>830</td><td>22358.5</td></tr><tr><td>964</td><td>13</td><td>22463.0</td></tr><tr><td>977</td><td>20</td><td>21750.0</td></tr><tr><td>980</td><td>828</td><td>23670.67</td></tr><tr><td>1000</td><td>4</td><td>21795.0</td></tr><tr><td>1008</td><td>844</td><td>23593.0</td></tr></tbody></table></div>"
      ]
     },
     "metadata": {
      "application/vnd.databricks.v1+output": {
       "addedWidgets": {},
       "aggData": [],
       "aggError": "",
       "aggOverflow": false,
       "aggSchema": [],
       "aggSeriesLimitReached": false,
       "aggType": "",
       "arguments": {},
       "columnCustomDisplayInfos": {},
       "data": [
        [
         858,
         4,
         20762.5
        ],
        [
         880,
         154,
         22302.0
        ],
        [
         890,
         814,
         22834.67
        ],
        [
         904,
         815,
         22324.5
        ],
        [
         952,
         830,
         22358.5
        ],
        [
         964,
         13,
         22463.0
        ],
        [
         977,
         20,
         21750.0
        ],
        [
         980,
         828,
         23670.67
        ],
        [
         1000,
         4,
         21795.0
        ],
        [
         1008,
         844,
         23593.0
        ]
       ],
       "datasetInfos": [],
       "dbfsResultPath": null,
       "isJsonSchema": true,
       "metadata": {},
       "overflow": false,
       "plotOptions": {
        "customPlotOptions": {},
        "displayType": "table",
        "pivotAggregation": null,
        "pivotColumns": null,
        "xColumns": null,
        "yColumns": null
       },
       "removedWidgets": [],
       "schema": [
        {
         "metadata": "{}",
         "name": "raceId",
         "type": "\"integer\""
        },
        {
         "metadata": "{}",
         "name": "driverId",
         "type": "\"integer\""
        },
        {
         "metadata": "{}",
         "name": "avg_pit_time",
         "type": "\"double\""
        }
       ],
       "type": "table"
      }
     },
     "output_type": "display_data"
    }
   ],
   "source": [
    "avg_pit_time_df = pit_stops_df.groupBy(\"raceId\", \"driverId\").agg(F.round(F.avg(\"milliseconds\"), 2).alias(\"avg_pit_time\"))\n",
    "display(avg_pit_time_df.limit(10))"
   ]
  },
  {
   "cell_type": "markdown",
   "metadata": {
    "application/vnd.databricks.v1+cell": {
     "cellMetadata": {
      "byteLimit": 2048000,
      "rowLimit": 10000
     },
     "inputWidgets": {},
     "nuid": "262302da-01d7-4637-827f-830fe31edeef",
     "showTitle": false,
     "tableResultSettingsMap": {},
     "title": ""
    }
   },
   "source": [
    "2. Rank the average time spent at the pit stop in order of who won each race?\n",
    "\n",
    "- In this case, if a driver didn't finish the race, it will show \"Null\" in the \"position\" column. I simply removed these drivers thorught a filtering condition.\n"
   ]
  },
  {
   "cell_type": "code",
   "execution_count": 0,
   "metadata": {
    "application/vnd.databricks.v1+cell": {
     "cellMetadata": {
      "byteLimit": 2048000,
      "rowLimit": 10000
     },
     "inputWidgets": {},
     "nuid": "dc5561d5-cd65-4676-a2a6-70a2d1bb8b7f",
     "showTitle": false,
     "tableResultSettingsMap": {},
     "title": ""
    }
   },
   "outputs": [
    {
     "output_type": "display_data",
     "data": {
      "text/html": [
       "<style scoped>\n",
       "  .table-result-container {\n",
       "    max-height: 300px;\n",
       "    overflow: auto;\n",
       "  }\n",
       "  table, th, td {\n",
       "    border: 1px solid black;\n",
       "    border-collapse: collapse;\n",
       "  }\n",
       "  th, td {\n",
       "    padding: 5px;\n",
       "  }\n",
       "  th {\n",
       "    text-align: left;\n",
       "  }\n",
       "</style><div class='table-result-container'><table class='table-result'><thead style='background-color: white'><tr><th>raceId</th><th>driverId</th><th>position</th><th>avg_pit_time</th></tr></thead><tbody><tr><td>841</td><td>20</td><td>1</td><td>23319.5</td></tr><tr><td>841</td><td>1</td><td>2</td><td>23213.0</td></tr><tr><td>841</td><td>808</td><td>3</td><td>25109.0</td></tr><tr><td>841</td><td>4</td><td>4</td><td>24055.0</td></tr><tr><td>841</td><td>17</td><td>5</td><td>24058.67</td></tr><tr><td>841</td><td>18</td><td>6</td><td>20950.33</td></tr><tr><td>841</td><td>13</td><td>7</td><td>24145.67</td></tr><tr><td>841</td><td>67</td><td>8</td><td>24221.0</td></tr><tr><td>841</td><td>16</td><td>9</td><td>24924.5</td></tr><tr><td>841</td><td>814</td><td>10</td><td>24597.5</td></tr><tr><td>841</td><td>153</td><td>11</td><td>25903.0</td></tr><tr><td>841</td><td>2</td><td>12</td><td>24046.0</td></tr><tr><td>841</td><td>15</td><td>13</td><td>24873.5</td></tr><tr><td>841</td><td>816</td><td>14</td><td>25852.5</td></tr><tr><td>842</td><td>20</td><td>1</td><td>22408.33</td></tr><tr><td>842</td><td>18</td><td>2</td><td>22451.33</td></tr><tr><td>842</td><td>2</td><td>3</td><td>23241.0</td></tr><tr><td>842</td><td>17</td><td>4</td><td>22198.25</td></tr><tr><td>842</td><td>13</td><td>5</td><td>24886.0</td></tr><tr><td>842</td><td>4</td><td>6</td><td>24510.0</td></tr></tbody></table></div>"
      ]
     },
     "metadata": {
      "application/vnd.databricks.v1+output": {
       "addedWidgets": {},
       "aggData": [],
       "aggError": "",
       "aggOverflow": false,
       "aggSchema": [],
       "aggSeriesLimitReached": false,
       "aggType": "",
       "arguments": {},
       "columnCustomDisplayInfos": {},
       "data": [
        [
         841,
         20,
         1,
         23319.5
        ],
        [
         841,
         1,
         2,
         23213.0
        ],
        [
         841,
         808,
         3,
         25109.0
        ],
        [
         841,
         4,
         4,
         24055.0
        ],
        [
         841,
         17,
         5,
         24058.67
        ],
        [
         841,
         18,
         6,
         20950.33
        ],
        [
         841,
         13,
         7,
         24145.67
        ],
        [
         841,
         67,
         8,
         24221.0
        ],
        [
         841,
         16,
         9,
         24924.5
        ],
        [
         841,
         814,
         10,
         24597.5
        ],
        [
         841,
         153,
         11,
         25903.0
        ],
        [
         841,
         2,
         12,
         24046.0
        ],
        [
         841,
         15,
         13,
         24873.5
        ],
        [
         841,
         816,
         14,
         25852.5
        ],
        [
         842,
         20,
         1,
         22408.33
        ],
        [
         842,
         18,
         2,
         22451.33
        ],
        [
         842,
         2,
         3,
         23241.0
        ],
        [
         842,
         17,
         4,
         22198.25
        ],
        [
         842,
         13,
         5,
         24886.0
        ],
        [
         842,
         4,
         6,
         24510.0
        ]
       ],
       "datasetInfos": [],
       "dbfsResultPath": null,
       "isJsonSchema": true,
       "metadata": {},
       "overflow": false,
       "plotOptions": {
        "customPlotOptions": {},
        "displayType": "table",
        "pivotAggregation": null,
        "pivotColumns": null,
        "xColumns": null,
        "yColumns": null
       },
       "removedWidgets": [],
       "schema": [
        {
         "metadata": "{}",
         "name": "raceId",
         "type": "\"integer\""
        },
        {
         "metadata": "{}",
         "name": "driverId",
         "type": "\"integer\""
        },
        {
         "metadata": "{}",
         "name": "position",
         "type": "\"integer\""
        },
        {
         "metadata": "{}",
         "name": "avg_pit_time",
         "type": "\"double\""
        }
       ],
       "type": "table"
      }
     },
     "output_type": "display_data"
    }
   ],
   "source": [
    "results_clean = results_df.join(avg_pit_time_df, [\"raceId\", \"driverId\"], how=\"inner\").filter(col(\"position\").cast(\"int\").isNotNull()).withColumn(\"position\", col(\"position\").cast(\"int\"))\n",
    "\n",
    "windowSpec = Window.partitionBy(\"raceId\").orderBy(\"position\")\n",
    "display(results_clean.select(\"raceId\", \"driverId\", \"position\", \"avg_pit_time\").limit(20))"
   ]
  },
  {
   "cell_type": "markdown",
   "metadata": {
    "application/vnd.databricks.v1+cell": {
     "cellMetadata": {
      "byteLimit": 2048000,
      "rowLimit": 10000
     },
     "inputWidgets": {},
     "nuid": "7eb1dfde-19cf-4236-85cb-2ca40c0f8fa9",
     "showTitle": false,
     "tableResultSettingsMap": {},
     "title": ""
    }
   },
   "source": [
    "3. Insert the missing code (e.g: ALO for Alonso) for drivers based on the 'drivers' dataset\n",
    "\n",
    "- We can easily observe that the \"code\" column is origially from the \"driverRef\" column, where the value is set by the first 3 uppercase alphabets of corresponding string from the column \"driverRef\"."
   ]
  },
  {
   "cell_type": "code",
   "execution_count": 0,
   "metadata": {
    "application/vnd.databricks.v1+cell": {
     "cellMetadata": {
      "byteLimit": 2048000,
      "rowLimit": 10000
     },
     "inputWidgets": {},
     "nuid": "c1f45e7e-033e-4115-815e-48568771d17f",
     "showTitle": false,
     "tableResultSettingsMap": {},
     "title": ""
    }
   },
   "outputs": [
    {
     "output_type": "execute_result",
     "data": {
      "text/plain": [
       "DataFrame[driverId: int, driverRef: string, code: string]"
      ]
     },
     "execution_count": 14,
     "metadata": {},
     "output_type": "execute_result"
    }
   ],
   "source": [
    "missing_code_df = drivers_df.filter((F.col(\"code\") == \"\\\\N\")|(F.col(\"code\").isNull()))\n",
    "missing_code_df.select(\"driverId\", \"driverRef\", \"code\")"
   ]
  },
  {
   "cell_type": "code",
   "execution_count": 0,
   "metadata": {
    "application/vnd.databricks.v1+cell": {
     "cellMetadata": {
      "byteLimit": 2048000,
      "rowLimit": 10000
     },
     "inputWidgets": {},
     "nuid": "22a49a57-9f18-4f9b-9e0e-d619185ceabb",
     "showTitle": false,
     "tableResultSettingsMap": {},
     "title": ""
    }
   },
   "outputs": [
    {
     "output_type": "display_data",
     "data": {
      "text/html": [
       "<style scoped>\n",
       "  .table-result-container {\n",
       "    max-height: 300px;\n",
       "    overflow: auto;\n",
       "  }\n",
       "  table, th, td {\n",
       "    border: 1px solid black;\n",
       "    border-collapse: collapse;\n",
       "  }\n",
       "  th, td {\n",
       "    padding: 5px;\n",
       "  }\n",
       "  th {\n",
       "    text-align: left;\n",
       "  }\n",
       "</style><div class='table-result-container'><table class='table-result'><thead style='background-color: white'><tr><th>driverId</th><th>driverRef</th><th>number</th><th>code</th><th>forename</th><th>surname</th><th>dob</th><th>nationality</th><th>url</th></tr></thead><tbody><tr><td>1</td><td>hamilton</td><td>44</td><td>HAM</td><td>Lewis</td><td>Hamilton</td><td>1985-01-07</td><td>British</td><td>http://en.wikipedia.org/wiki/Lewis_Hamilton</td></tr><tr><td>2</td><td>heidfeld</td><td>\\N</td><td>HEI</td><td>Nick</td><td>Heidfeld</td><td>1977-05-10</td><td>German</td><td>http://en.wikipedia.org/wiki/Nick_Heidfeld</td></tr><tr><td>3</td><td>rosberg</td><td>6</td><td>ROS</td><td>Nico</td><td>Rosberg</td><td>1985-06-27</td><td>German</td><td>http://en.wikipedia.org/wiki/Nico_Rosberg</td></tr><tr><td>4</td><td>alonso</td><td>14</td><td>ALO</td><td>Fernando</td><td>Alonso</td><td>1981-07-29</td><td>Spanish</td><td>http://en.wikipedia.org/wiki/Fernando_Alonso</td></tr><tr><td>5</td><td>kovalainen</td><td>\\N</td><td>KOV</td><td>Heikki</td><td>Kovalainen</td><td>1981-10-19</td><td>Finnish</td><td>http://en.wikipedia.org/wiki/Heikki_Kovalainen</td></tr><tr><td>6</td><td>nakajima</td><td>\\N</td><td>NAK</td><td>Kazuki</td><td>Nakajima</td><td>1985-01-11</td><td>Japanese</td><td>http://en.wikipedia.org/wiki/Kazuki_Nakajima</td></tr><tr><td>7</td><td>bourdais</td><td>\\N</td><td>BOU</td><td>Sébastien</td><td>Bourdais</td><td>1979-02-28</td><td>French</td><td>http://en.wikipedia.org/wiki/S%C3%A9bastien_Bourdais</td></tr><tr><td>8</td><td>raikkonen</td><td>7</td><td>RAI</td><td>Kimi</td><td>Räikkönen</td><td>1979-10-17</td><td>Finnish</td><td>http://en.wikipedia.org/wiki/Kimi_R%C3%A4ikk%C3%B6nen</td></tr><tr><td>9</td><td>kubica</td><td>88</td><td>KUB</td><td>Robert</td><td>Kubica</td><td>1984-12-07</td><td>Polish</td><td>http://en.wikipedia.org/wiki/Robert_Kubica</td></tr><tr><td>10</td><td>glock</td><td>\\N</td><td>GLO</td><td>Timo</td><td>Glock</td><td>1982-03-18</td><td>German</td><td>http://en.wikipedia.org/wiki/Timo_Glock</td></tr></tbody></table></div>"
      ]
     },
     "metadata": {
      "application/vnd.databricks.v1+output": {
       "addedWidgets": {},
       "aggData": [],
       "aggError": "",
       "aggOverflow": false,
       "aggSchema": [],
       "aggSeriesLimitReached": false,
       "aggType": "",
       "arguments": {},
       "columnCustomDisplayInfos": {},
       "data": [
        [
         1,
         "hamilton",
         "44",
         "HAM",
         "Lewis",
         "Hamilton",
         "1985-01-07",
         "British",
         "http://en.wikipedia.org/wiki/Lewis_Hamilton"
        ],
        [
         2,
         "heidfeld",
         "\\N",
         "HEI",
         "Nick",
         "Heidfeld",
         "1977-05-10",
         "German",
         "http://en.wikipedia.org/wiki/Nick_Heidfeld"
        ],
        [
         3,
         "rosberg",
         "6",
         "ROS",
         "Nico",
         "Rosberg",
         "1985-06-27",
         "German",
         "http://en.wikipedia.org/wiki/Nico_Rosberg"
        ],
        [
         4,
         "alonso",
         "14",
         "ALO",
         "Fernando",
         "Alonso",
         "1981-07-29",
         "Spanish",
         "http://en.wikipedia.org/wiki/Fernando_Alonso"
        ],
        [
         5,
         "kovalainen",
         "\\N",
         "KOV",
         "Heikki",
         "Kovalainen",
         "1981-10-19",
         "Finnish",
         "http://en.wikipedia.org/wiki/Heikki_Kovalainen"
        ],
        [
         6,
         "nakajima",
         "\\N",
         "NAK",
         "Kazuki",
         "Nakajima",
         "1985-01-11",
         "Japanese",
         "http://en.wikipedia.org/wiki/Kazuki_Nakajima"
        ],
        [
         7,
         "bourdais",
         "\\N",
         "BOU",
         "Sébastien",
         "Bourdais",
         "1979-02-28",
         "French",
         "http://en.wikipedia.org/wiki/S%C3%A9bastien_Bourdais"
        ],
        [
         8,
         "raikkonen",
         "7",
         "RAI",
         "Kimi",
         "Räikkönen",
         "1979-10-17",
         "Finnish",
         "http://en.wikipedia.org/wiki/Kimi_R%C3%A4ikk%C3%B6nen"
        ],
        [
         9,
         "kubica",
         "88",
         "KUB",
         "Robert",
         "Kubica",
         "1984-12-07",
         "Polish",
         "http://en.wikipedia.org/wiki/Robert_Kubica"
        ],
        [
         10,
         "glock",
         "\\N",
         "GLO",
         "Timo",
         "Glock",
         "1982-03-18",
         "German",
         "http://en.wikipedia.org/wiki/Timo_Glock"
        ]
       ],
       "datasetInfos": [],
       "dbfsResultPath": null,
       "isJsonSchema": true,
       "metadata": {},
       "overflow": false,
       "plotOptions": {
        "customPlotOptions": {},
        "displayType": "table",
        "pivotAggregation": null,
        "pivotColumns": null,
        "xColumns": null,
        "yColumns": null
       },
       "removedWidgets": [],
       "schema": [
        {
         "metadata": "{}",
         "name": "driverId",
         "type": "\"integer\""
        },
        {
         "metadata": "{}",
         "name": "driverRef",
         "type": "\"string\""
        },
        {
         "metadata": "{}",
         "name": "number",
         "type": "\"string\""
        },
        {
         "metadata": "{}",
         "name": "code",
         "type": "\"string\""
        },
        {
         "metadata": "{}",
         "name": "forename",
         "type": "\"string\""
        },
        {
         "metadata": "{}",
         "name": "surname",
         "type": "\"string\""
        },
        {
         "metadata": "{}",
         "name": "dob",
         "type": "\"date\""
        },
        {
         "metadata": "{}",
         "name": "nationality",
         "type": "\"string\""
        },
        {
         "metadata": "{}",
         "name": "url",
         "type": "\"string\""
        }
       ],
       "type": "table"
      }
     },
     "output_type": "display_data"
    }
   ],
   "source": [
    "drivers_df = drivers_df.withColumn(\n",
    "    \"code\", \n",
    "    when(col(\"code\")==\"\\\\N\", upper(substring(col(\"driverRef\"), 1, 3))).otherwise(col(\"code\"))\n",
    ")\n",
    "display(drivers_df.limit(10))"
   ]
  },
  {
   "cell_type": "markdown",
   "metadata": {
    "application/vnd.databricks.v1+cell": {
     "cellMetadata": {
      "byteLimit": 2048000,
      "rowLimit": 10000
     },
     "inputWidgets": {},
     "nuid": "dcd348a9-bf95-4169-a536-e5bf8c1d12df",
     "showTitle": false,
     "tableResultSettingsMap": {},
     "title": ""
    }
   },
   "source": [
    "4. Who is the youngest and oldest driver for each race? Create a new column called “Age”\n",
    "\n",
    "- In this case, Age is calculated by taking the difference in days between the race date and the driver's date of birth, then dividing it by 365.25 (In other to account for leap years) and casting into int number, we can get the number of full birthdays"
   ]
  },
  {
   "cell_type": "code",
   "execution_count": 0,
   "metadata": {
    "application/vnd.databricks.v1+cell": {
     "cellMetadata": {
      "byteLimit": 2048000,
      "rowLimit": 10000
     },
     "inputWidgets": {},
     "nuid": "cc287cea-1b52-4966-81b2-b3ec5d0b4e37",
     "showTitle": false,
     "tableResultSettingsMap": {},
     "title": ""
    }
   },
   "outputs": [
    {
     "output_type": "display_data",
     "data": {
      "text/html": [
       "<style scoped>\n",
       "  .table-result-container {\n",
       "    max-height: 300px;\n",
       "    overflow: auto;\n",
       "  }\n",
       "  table, th, td {\n",
       "    border: 1px solid black;\n",
       "    border-collapse: collapse;\n",
       "  }\n",
       "  th, td {\n",
       "    padding: 5px;\n",
       "  }\n",
       "  th {\n",
       "    text-align: left;\n",
       "  }\n",
       "</style><div class='table-result-container'><table class='table-result'><thead style='background-color: white'><tr><th>raceId</th><th>driverId</th><th>Age</th></tr></thead><tbody><tr><td>1</td><td>67</td><td>20</td></tr><tr><td>2</td><td>67</td><td>20</td></tr><tr><td>3</td><td>67</td><td>20</td></tr><tr><td>4</td><td>67</td><td>20</td></tr><tr><td>5</td><td>67</td><td>20</td></tr><tr><td>6</td><td>67</td><td>20</td></tr><tr><td>7</td><td>67</td><td>20</td></tr><tr><td>8</td><td>67</td><td>20</td></tr><tr><td>9</td><td>67</td><td>20</td></tr><tr><td>10</td><td>153</td><td>19</td></tr><tr><td>11</td><td>153</td><td>19</td></tr><tr><td>12</td><td>153</td><td>19</td></tr><tr><td>13</td><td>153</td><td>19</td></tr><tr><td>14</td><td>153</td><td>19</td></tr><tr><td>15</td><td>153</td><td>19</td></tr><tr><td>16</td><td>153</td><td>19</td></tr><tr><td>17</td><td>153</td><td>19</td></tr><tr><td>18</td><td>20</td><td>20</td></tr><tr><td>19</td><td>20</td><td>20</td></tr><tr><td>20</td><td>20</td><td>20</td></tr></tbody></table></div>"
      ]
     },
     "metadata": {
      "application/vnd.databricks.v1+output": {
       "addedWidgets": {},
       "aggData": [],
       "aggError": "",
       "aggOverflow": false,
       "aggSchema": [],
       "aggSeriesLimitReached": false,
       "aggType": "",
       "arguments": {},
       "columnCustomDisplayInfos": {},
       "data": [
        [
         1,
         67,
         20
        ],
        [
         2,
         67,
         20
        ],
        [
         3,
         67,
         20
        ],
        [
         4,
         67,
         20
        ],
        [
         5,
         67,
         20
        ],
        [
         6,
         67,
         20
        ],
        [
         7,
         67,
         20
        ],
        [
         8,
         67,
         20
        ],
        [
         9,
         67,
         20
        ],
        [
         10,
         153,
         19
        ],
        [
         11,
         153,
         19
        ],
        [
         12,
         153,
         19
        ],
        [
         13,
         153,
         19
        ],
        [
         14,
         153,
         19
        ],
        [
         15,
         153,
         19
        ],
        [
         16,
         153,
         19
        ],
        [
         17,
         153,
         19
        ],
        [
         18,
         20,
         20
        ],
        [
         19,
         20,
         20
        ],
        [
         20,
         20,
         20
        ]
       ],
       "datasetInfos": [],
       "dbfsResultPath": null,
       "isJsonSchema": true,
       "metadata": {},
       "overflow": false,
       "plotOptions": {
        "customPlotOptions": {},
        "displayType": "table",
        "pivotAggregation": null,
        "pivotColumns": null,
        "xColumns": null,
        "yColumns": null
       },
       "removedWidgets": [],
       "schema": [
        {
         "metadata": "{}",
         "name": "raceId",
         "type": "\"integer\""
        },
        {
         "metadata": "{}",
         "name": "driverId",
         "type": "\"integer\""
        },
        {
         "metadata": "{}",
         "name": "Age",
         "type": "\"integer\""
        }
       ],
       "type": "table"
      }
     },
     "output_type": "display_data"
    },
    {
     "output_type": "display_data",
     "data": {
      "text/html": [
       "<style scoped>\n",
       "  .table-result-container {\n",
       "    max-height: 300px;\n",
       "    overflow: auto;\n",
       "  }\n",
       "  table, th, td {\n",
       "    border: 1px solid black;\n",
       "    border-collapse: collapse;\n",
       "  }\n",
       "  th, td {\n",
       "    padding: 5px;\n",
       "  }\n",
       "  th {\n",
       "    text-align: left;\n",
       "  }\n",
       "</style><div class='table-result-container'><table class='table-result'><thead style='background-color: white'><tr><th>raceId</th><th>driverId</th><th>Age</th></tr></thead><tbody><tr><td>1</td><td>22</td><td>36</td></tr><tr><td>2</td><td>22</td><td>36</td></tr><tr><td>3</td><td>22</td><td>36</td></tr><tr><td>4</td><td>22</td><td>36</td></tr><tr><td>5</td><td>22</td><td>36</td></tr><tr><td>6</td><td>22</td><td>37</td></tr><tr><td>7</td><td>22</td><td>37</td></tr><tr><td>8</td><td>22</td><td>37</td></tr><tr><td>9</td><td>22</td><td>37</td></tr><tr><td>10</td><td>22</td><td>37</td></tr><tr><td>11</td><td>69</td><td>38</td></tr><tr><td>12</td><td>69</td><td>38</td></tr><tr><td>13</td><td>22</td><td>37</td></tr><tr><td>14</td><td>22</td><td>37</td></tr><tr><td>15</td><td>22</td><td>37</td></tr><tr><td>16</td><td>22</td><td>37</td></tr><tr><td>17</td><td>22</td><td>37</td></tr><tr><td>18</td><td>14</td><td>36</td></tr><tr><td>19</td><td>14</td><td>36</td></tr><tr><td>20</td><td>14</td><td>37</td></tr></tbody></table></div>"
      ]
     },
     "metadata": {
      "application/vnd.databricks.v1+output": {
       "addedWidgets": {},
       "aggData": [],
       "aggError": "",
       "aggOverflow": false,
       "aggSchema": [],
       "aggSeriesLimitReached": false,
       "aggType": "",
       "arguments": {},
       "columnCustomDisplayInfos": {},
       "data": [
        [
         1,
         22,
         36
        ],
        [
         2,
         22,
         36
        ],
        [
         3,
         22,
         36
        ],
        [
         4,
         22,
         36
        ],
        [
         5,
         22,
         36
        ],
        [
         6,
         22,
         37
        ],
        [
         7,
         22,
         37
        ],
        [
         8,
         22,
         37
        ],
        [
         9,
         22,
         37
        ],
        [
         10,
         22,
         37
        ],
        [
         11,
         69,
         38
        ],
        [
         12,
         69,
         38
        ],
        [
         13,
         22,
         37
        ],
        [
         14,
         22,
         37
        ],
        [
         15,
         22,
         37
        ],
        [
         16,
         22,
         37
        ],
        [
         17,
         22,
         37
        ],
        [
         18,
         14,
         36
        ],
        [
         19,
         14,
         36
        ],
        [
         20,
         14,
         37
        ]
       ],
       "datasetInfos": [],
       "dbfsResultPath": null,
       "isJsonSchema": true,
       "metadata": {},
       "overflow": false,
       "plotOptions": {
        "customPlotOptions": {},
        "displayType": "table",
        "pivotAggregation": null,
        "pivotColumns": null,
        "xColumns": null,
        "yColumns": null
       },
       "removedWidgets": [],
       "schema": [
        {
         "metadata": "{}",
         "name": "raceId",
         "type": "\"integer\""
        },
        {
         "metadata": "{}",
         "name": "driverId",
         "type": "\"integer\""
        },
        {
         "metadata": "{}",
         "name": "Age",
         "type": "\"integer\""
        }
       ],
       "type": "table"
      }
     },
     "output_type": "display_data"
    }
   ],
   "source": [
    "drivers_df = drivers_df.withColumn(\"dob\", to_date(col(\"dob\")))\n",
    "races_df = races_df.withColumn(\"date\", to_date(col(\"date\")))\n",
    "\n",
    "results_with_dob = results_df.join(drivers_df.select(\"driverId\", \"dob\"), on=\"driverId\", how=\"inner\").join(races_df.select(\"raceId\", \"date\"), on=\"raceId\", how=\"inner\")\n",
    "\n",
    "results_with_age = results_with_dob.withColumn(\"Age\", (datediff(col(\"date\"), col(\"dob\"))/365.25).cast(\"int\"))\n",
    "\n",
    "age_window_youngest = Window.partitionBy(\"raceId\").orderBy(\"Age\")\n",
    "age_window_oldest = Window.partitionBy(\"raceId\").orderBy(col(\"Age\").desc())\n",
    "\n",
    "youngest = results_with_age.withColumn(\"row_num\", row_number().over(age_window_youngest)).filter(\"row_num = 1\")\n",
    "oldest = results_with_age.withColumn(\"row_num\", row_number().over(age_window_oldest)).filter(\"row_num = 1\")\n",
    "\n",
    "display(youngest.select(\"raceId\", \"driverId\", \"Age\").limit(20))\n",
    "display(oldest.select(\"raceId\", \"driverId\", \"Age\").limit(20))"
   ]
  },
  {
   "cell_type": "markdown",
   "metadata": {
    "application/vnd.databricks.v1+cell": {
     "cellMetadata": {
      "byteLimit": 2048000,
      "rowLimit": 10000
     },
     "inputWidgets": {},
     "nuid": "f1af0e59-eafe-4561-a7e8-12740763474a",
     "showTitle": false,
     "tableResultSettingsMap": {},
     "title": ""
    }
   },
   "source": [
    "5. For a given race, which driver has the most wins and losses?"
   ]
  },
  {
   "cell_type": "code",
   "execution_count": 0,
   "metadata": {
    "application/vnd.databricks.v1+cell": {
     "cellMetadata": {
      "byteLimit": 2048000,
      "rowLimit": 10000
     },
     "inputWidgets": {},
     "nuid": "32985659-24c2-421b-a499-5b7390d82cf5",
     "showTitle": false,
     "tableResultSettingsMap": {},
     "title": ""
    }
   },
   "outputs": [
    {
     "output_type": "display_data",
     "data": {
      "text/html": [
       "<style scoped>\n",
       "  .table-result-container {\n",
       "    max-height: 300px;\n",
       "    overflow: auto;\n",
       "  }\n",
       "  table, th, td {\n",
       "    border: 1px solid black;\n",
       "    border-collapse: collapse;\n",
       "  }\n",
       "  th, td {\n",
       "    padding: 5px;\n",
       "  }\n",
       "  th {\n",
       "    text-align: left;\n",
       "  }\n",
       "</style><div class='table-result-container'><table class='table-result'><thead style='background-color: white'><tr><th>raceId</th><th>driverId</th><th>cum_wins</th></tr></thead><tbody><tr><td>2</td><td>18</td><td>1</td></tr><tr><td>3</td><td>18</td><td>2</td></tr><tr><td>4</td><td>18</td><td>2</td></tr><tr><td>5</td><td>18</td><td>3</td></tr><tr><td>6</td><td>18</td><td>4</td></tr><tr><td>7</td><td>18</td><td>5</td></tr><tr><td>8</td><td>18</td><td>6</td></tr><tr><td>9</td><td>18</td><td>6</td></tr><tr><td>10</td><td>18</td><td>6</td></tr><tr><td>11</td><td>18</td><td>6</td></tr><tr><td>12</td><td>20</td><td>2</td></tr><tr><td>13</td><td>18</td><td>6</td></tr><tr><td>14</td><td>18</td><td>6</td></tr><tr><td>15</td><td>18</td><td>6</td></tr><tr><td>16</td><td>18</td><td>6</td></tr><tr><td>17</td><td>18</td><td>6</td></tr><tr><td>18</td><td>1</td><td>2</td></tr><tr><td>19</td><td>18</td><td>6</td></tr><tr><td>20</td><td>1</td><td>3</td></tr><tr><td>21</td><td>18</td><td>6</td></tr></tbody></table></div>"
      ]
     },
     "metadata": {
      "application/vnd.databricks.v1+output": {
       "addedWidgets": {},
       "aggData": [],
       "aggError": "",
       "aggOverflow": false,
       "aggSchema": [],
       "aggSeriesLimitReached": false,
       "aggType": "",
       "arguments": {},
       "columnCustomDisplayInfos": {},
       "data": [
        [
         2,
         18,
         1
        ],
        [
         3,
         18,
         2
        ],
        [
         4,
         18,
         2
        ],
        [
         5,
         18,
         3
        ],
        [
         6,
         18,
         4
        ],
        [
         7,
         18,
         5
        ],
        [
         8,
         18,
         6
        ],
        [
         9,
         18,
         6
        ],
        [
         10,
         18,
         6
        ],
        [
         11,
         18,
         6
        ],
        [
         12,
         20,
         2
        ],
        [
         13,
         18,
         6
        ],
        [
         14,
         18,
         6
        ],
        [
         15,
         18,
         6
        ],
        [
         16,
         18,
         6
        ],
        [
         17,
         18,
         6
        ],
        [
         18,
         1,
         2
        ],
        [
         19,
         18,
         6
        ],
        [
         20,
         1,
         3
        ],
        [
         21,
         18,
         6
        ]
       ],
       "datasetInfos": [],
       "dbfsResultPath": null,
       "isJsonSchema": true,
       "metadata": {},
       "overflow": false,
       "plotOptions": {
        "customPlotOptions": {},
        "displayType": "table",
        "pivotAggregation": null,
        "pivotColumns": null,
        "xColumns": null,
        "yColumns": null
       },
       "removedWidgets": [],
       "schema": [
        {
         "metadata": "{}",
         "name": "raceId",
         "type": "\"integer\""
        },
        {
         "metadata": "{}",
         "name": "driverId",
         "type": "\"integer\""
        },
        {
         "metadata": "{}",
         "name": "cum_wins",
         "type": "\"long\""
        }
       ],
       "type": "table"
      }
     },
     "output_type": "display_data"
    },
    {
     "output_type": "display_data",
     "data": {
      "text/html": [
       "<style scoped>\n",
       "  .table-result-container {\n",
       "    max-height: 300px;\n",
       "    overflow: auto;\n",
       "  }\n",
       "  table, th, td {\n",
       "    border: 1px solid black;\n",
       "    border-collapse: collapse;\n",
       "  }\n",
       "  th, td {\n",
       "    padding: 5px;\n",
       "  }\n",
       "  th {\n",
       "    text-align: left;\n",
       "  }\n",
       "</style><div class='table-result-container'><table class='table-result'><thead style='background-color: white'><tr><th>raceId</th><th>driverId</th><th>cum_losses</th></tr></thead><tbody><tr><td>2</td><td>2</td><td>1</td></tr><tr><td>3</td><td>2</td><td>2</td></tr><tr><td>4</td><td>2</td><td>3</td></tr><tr><td>5</td><td>10</td><td>4</td></tr><tr><td>6</td><td>22</td><td>5</td></tr><tr><td>7</td><td>3</td><td>5</td></tr><tr><td>8</td><td>3</td><td>6</td></tr><tr><td>9</td><td>3</td><td>7</td></tr><tr><td>10</td><td>3</td><td>8</td></tr><tr><td>11</td><td>3</td><td>9</td></tr><tr><td>12</td><td>3</td><td>10</td></tr><tr><td>13</td><td>3</td><td>11</td></tr><tr><td>14</td><td>3</td><td>11</td></tr><tr><td>15</td><td>3</td><td>12</td></tr><tr><td>16</td><td>22</td><td>12</td></tr><tr><td>17</td><td>3</td><td>13</td></tr><tr><td>18</td><td>3</td><td>14</td></tr><tr><td>19</td><td>3</td><td>15</td></tr><tr><td>20</td><td>3</td><td>15</td></tr><tr><td>21</td><td>2</td><td>15</td></tr></tbody></table></div>"
      ]
     },
     "metadata": {
      "application/vnd.databricks.v1+output": {
       "addedWidgets": {},
       "aggData": [],
       "aggError": "",
       "aggOverflow": false,
       "aggSchema": [],
       "aggSeriesLimitReached": false,
       "aggType": "",
       "arguments": {},
       "columnCustomDisplayInfos": {},
       "data": [
        [
         2,
         2,
         1
        ],
        [
         3,
         2,
         2
        ],
        [
         4,
         2,
         3
        ],
        [
         5,
         10,
         4
        ],
        [
         6,
         22,
         5
        ],
        [
         7,
         3,
         5
        ],
        [
         8,
         3,
         6
        ],
        [
         9,
         3,
         7
        ],
        [
         10,
         3,
         8
        ],
        [
         11,
         3,
         9
        ],
        [
         12,
         3,
         10
        ],
        [
         13,
         3,
         11
        ],
        [
         14,
         3,
         11
        ],
        [
         15,
         3,
         12
        ],
        [
         16,
         22,
         12
        ],
        [
         17,
         3,
         13
        ],
        [
         18,
         3,
         14
        ],
        [
         19,
         3,
         15
        ],
        [
         20,
         3,
         15
        ],
        [
         21,
         2,
         15
        ]
       ],
       "datasetInfos": [],
       "dbfsResultPath": null,
       "isJsonSchema": true,
       "metadata": {},
       "overflow": false,
       "plotOptions": {
        "customPlotOptions": {},
        "displayType": "table",
        "pivotAggregation": null,
        "pivotColumns": null,
        "xColumns": null,
        "yColumns": null
       },
       "removedWidgets": [],
       "schema": [
        {
         "metadata": "{}",
         "name": "raceId",
         "type": "\"integer\""
        },
        {
         "metadata": "{}",
         "name": "driverId",
         "type": "\"integer\""
        },
        {
         "metadata": "{}",
         "name": "cum_losses",
         "type": "\"long\""
        }
       ],
       "type": "table"
      }
     },
     "output_type": "display_data"
    }
   ],
   "source": [
    "results_clean = results_df.filter(col(\"position\").cast(\"int\").isNotNull()).withColumn(\"position\", col(\"position\").cast(\"int\"))\n",
    "results_flagged = results_clean.withColumn(\"win\", when(col(\"position\") == 1, 1).otherwise(0)).withColumn(\"not_win_but_completed\", when((col(\"position\") > 1) & (col(\"statusId\") == 1), 1).otherwise(0))\n",
    "\n",
    "cum_window = Window.partitionBy(\"driverId\").orderBy(\"raceId\").rowsBetween(Window.unboundedPreceding, -1)\n",
    "\n",
    "results_cum_stats = results_flagged.withColumn(\"cum_wins\", sum(\"win\").over(cum_window)).withColumn(\"cum_losses\", sum(\"not_win_but_completed\").over(cum_window))\n",
    "\n",
    "win_window = Window.partitionBy(\"raceId\").orderBy(col(\"cum_wins\").desc())\n",
    "loss_window = Window.partitionBy(\"raceId\").orderBy(col(\"cum_losses\").desc())\n",
    "\n",
    "most_wins = results_cum_stats.withColumn(\"rank_win\", row_number().over(win_window)).filter(col(\"rank_win\") == 1).select(\"raceId\", \"driverId\", \"cum_wins\")\n",
    "\n",
    "most_losses = results_cum_stats.withColumn(\"rank_loss\", row_number().over(loss_window)).filter(col(\"rank_loss\") == 1).select(\"raceId\", \"driverId\", \"cum_losses\")\n",
    "\n",
    "display(most_wins.dropna().limit(20))\n",
    "display(most_losses.dropna().limit(20))"
   ]
  },
  {
   "cell_type": "markdown",
   "metadata": {
    "application/vnd.databricks.v1+cell": {
     "cellMetadata": {
      "byteLimit": 2048000,
      "rowLimit": 10000
     },
     "inputWidgets": {},
     "nuid": "9d2d9801-4edc-4163-bb5b-86921bacc981",
     "showTitle": false,
     "tableResultSettingsMap": {},
     "title": ""
    }
   },
   "source": [
    "6. Which constructor's overall performance is best in each year?"
   ]
  },
  {
   "cell_type": "code",
   "execution_count": 0,
   "metadata": {
    "application/vnd.databricks.v1+cell": {
     "cellMetadata": {
      "byteLimit": 2048000,
      "rowLimit": 10000
     },
     "inputWidgets": {},
     "nuid": "17fac449-2006-4e7d-981c-4faa9dc95ee2",
     "showTitle": false,
     "tableResultSettingsMap": {},
     "title": ""
    }
   },
   "outputs": [
    {
     "output_type": "display_data",
     "data": {
      "text/html": [
       "<style scoped>\n",
       "  .table-result-container {\n",
       "    max-height: 300px;\n",
       "    overflow: auto;\n",
       "  }\n",
       "  table, th, td {\n",
       "    border: 1px solid black;\n",
       "    border-collapse: collapse;\n",
       "  }\n",
       "  th, td {\n",
       "    padding: 5px;\n",
       "  }\n",
       "  th {\n",
       "    text-align: left;\n",
       "  }\n",
       "</style><div class='table-result-container'><table class='table-result'><thead style='background-color: white'><tr><th>constructorId</th><th>year</th><th>total_points</th><th>name</th></tr></thead><tbody><tr><td>51</td><td>1950</td><td>89.0</td><td>Alfa Romeo</td></tr><tr><td>6</td><td>1950</td><td>21.0</td><td>Ferrari</td></tr><tr><td>154</td><td>1950</td><td>20.0</td><td>Talbot-Lago</td></tr><tr><td>113</td><td>1950</td><td>14.0</td><td>Kurtis Kraft</td></tr><tr><td>105</td><td>1950</td><td>11.0</td><td>Maserati</td></tr><tr><td>150</td><td>1950</td><td>10.0</td><td>Deidt</td></tr><tr><td>141</td><td>1950</td><td>3.0</td><td>Simca</td></tr><tr><td>110</td><td>1950</td><td>0.0</td><td>Lesovsky</td></tr><tr><td>156</td><td>1950</td><td>0.0</td><td>Marchese</td></tr><tr><td>160</td><td>1950</td><td>0.0</td><td>Wetteroth</td></tr><tr><td>158</td><td>1950</td><td>0.0</td><td>Rae</td></tr><tr><td>87</td><td>1950</td><td>0.0</td><td>Cooper</td></tr><tr><td>119</td><td>1950</td><td>0.0</td><td>Moore</td></tr><tr><td>162</td><td>1950</td><td>0.0</td><td>Snowberger</td></tr><tr><td>151</td><td>1950</td><td>0.0</td><td>ERA</td></tr><tr><td>138</td><td>1950</td><td>0.0</td><td>Nichels</td></tr><tr><td>157</td><td>1950</td><td>0.0</td><td>Langley</td></tr><tr><td>159</td><td>1950</td><td>0.0</td><td>Olson</td></tr><tr><td>116</td><td>1950</td><td>0.0</td><td>Ewing</td></tr><tr><td>126</td><td>1950</td><td>0.0</td><td>Alta</td></tr></tbody></table></div>"
      ]
     },
     "metadata": {
      "application/vnd.databricks.v1+output": {
       "addedWidgets": {},
       "aggData": [],
       "aggError": "",
       "aggOverflow": false,
       "aggSchema": [],
       "aggSeriesLimitReached": false,
       "aggType": "",
       "arguments": {},
       "columnCustomDisplayInfos": {},
       "data": [
        [
         51,
         1950,
         89.0,
         "Alfa Romeo"
        ],
        [
         6,
         1950,
         21.0,
         "Ferrari"
        ],
        [
         154,
         1950,
         20.0,
         "Talbot-Lago"
        ],
        [
         113,
         1950,
         14.0,
         "Kurtis Kraft"
        ],
        [
         105,
         1950,
         11.0,
         "Maserati"
        ],
        [
         150,
         1950,
         10.0,
         "Deidt"
        ],
        [
         141,
         1950,
         3.0,
         "Simca"
        ],
        [
         110,
         1950,
         0.0,
         "Lesovsky"
        ],
        [
         156,
         1950,
         0.0,
         "Marchese"
        ],
        [
         160,
         1950,
         0.0,
         "Wetteroth"
        ],
        [
         158,
         1950,
         0.0,
         "Rae"
        ],
        [
         87,
         1950,
         0.0,
         "Cooper"
        ],
        [
         119,
         1950,
         0.0,
         "Moore"
        ],
        [
         162,
         1950,
         0.0,
         "Snowberger"
        ],
        [
         151,
         1950,
         0.0,
         "ERA"
        ],
        [
         138,
         1950,
         0.0,
         "Nichels"
        ],
        [
         157,
         1950,
         0.0,
         "Langley"
        ],
        [
         159,
         1950,
         0.0,
         "Olson"
        ],
        [
         116,
         1950,
         0.0,
         "Ewing"
        ],
        [
         126,
         1950,
         0.0,
         "Alta"
        ]
       ],
       "datasetInfos": [],
       "dbfsResultPath": null,
       "isJsonSchema": true,
       "metadata": {},
       "overflow": false,
       "plotOptions": {
        "customPlotOptions": {},
        "displayType": "table",
        "pivotAggregation": null,
        "pivotColumns": null,
        "xColumns": null,
        "yColumns": null
       },
       "removedWidgets": [],
       "schema": [
        {
         "metadata": "{}",
         "name": "constructorId",
         "type": "\"integer\""
        },
        {
         "metadata": "{}",
         "name": "year",
         "type": "\"integer\""
        },
        {
         "metadata": "{}",
         "name": "total_points",
         "type": "\"double\""
        },
        {
         "metadata": "{}",
         "name": "name",
         "type": "\"string\""
        }
       ],
       "type": "table"
      }
     },
     "output_type": "display_data"
    }
   ],
   "source": [
    "results_with_year = results_df.join(races_df.select(\"raceId\", \"year\"), on=\"raceId\", how=\"left\")\n",
    "\n",
    "constructor_points = results_with_year.groupBy(\"year\", \"constructorId\").agg(sum(\"points\").alias(\"total_points\"))\n",
    "\n",
    "constructor_points_named = constructor_points.join(\n",
    "    constructors_df.select(\"constructorId\", \"name\"), on=\"constructorId\", how=\"left\"\n",
    ")\n",
    "\n",
    "constructor_ranked = constructor_points_named.orderBy(\"year\", col(\"total_points\").desc())\n",
    "\n",
    "display(constructor_ranked.limit(20))"
   ]
  }
 ],
 "metadata": {
  "application/vnd.databricks.v1+notebook": {
   "computePreferences": null,
   "dashboards": [],
   "environmentMetadata": {
    "base_environment": "",
    "environment_version": "2"
   },
   "language": "python",
   "notebookMetadata": {
    "pythonIndentUnit": 4
   },
   "notebookName": "Homework2_Minshuo Piao",
   "widgets": {}
  },
  "language_info": {
   "name": "python"
  }
 },
 "nbformat": 4,
 "nbformat_minor": 0
}